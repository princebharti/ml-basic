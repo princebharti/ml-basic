{
 "cells": [
  {
   "cell_type": "code",
   "execution_count": 13,
   "metadata": {},
   "outputs": [],
   "source": [
    "import pandas as pd\n",
    "import numpy as np\n",
    "import seaborn as sns\n",
    "import matplotlib.pyplot as plt\n",
    "%matplotlib inline\n",
    "from sklearn.preprocessing import StandardScaler\n",
    "from sklearn.manifold import TSNE"
   ]
  },
  {
   "cell_type": "code",
   "execution_count": 14,
   "metadata": {},
   "outputs": [],
   "source": [
    "data=pd.read_csv('mnist_train.csv',dtype='object')\n",
    "label=data['label']\n",
    "del data['label']"
   ]
  },
  {
   "cell_type": "code",
   "execution_count": null,
   "metadata": {},
   "outputs": [],
   "source": [
    "scaled_data=StandardScaler().fit_transform(data) # column standardization\n",
    "model=TSNE(n_components=2,perplexity=20,random_state=0)\n",
    "n=42000 # no of data points out of 42k points\n",
    "tsne_data=model.fit_transform(scaled_data[:n])\n",
    "df=pd.DataFrame(tsne_data,columns=['v1','v2'])\n",
    "df['label']=label[:n]\n",
    "# plt.figure(figsize=(6,9))\n",
    "sns.FacetGrid(data=df,hue='label',size=6).map(plt.scatter,'v1','v2').add_legend()\n",
    "plt.ylim(-100,100)\n",
    "plt.xlim(-100,100)\n",
    "plt.tight_layout()\n"
   ]
  },
  {
   "cell_type": "code",
   "execution_count": null,
   "metadata": {},
   "outputs": [],
   "source": []
  }
 ],
 "metadata": {
  "kernelspec": {
   "display_name": "Python 3",
   "language": "python",
   "name": "python3"
  },
  "language_info": {
   "codemirror_mode": {
    "name": "ipython",
    "version": 3
   },
   "file_extension": ".py",
   "mimetype": "text/x-python",
   "name": "python",
   "nbconvert_exporter": "python",
   "pygments_lexer": "ipython3",
   "version": "3.6.5"
  }
 },
 "nbformat": 4,
 "nbformat_minor": 2
}
